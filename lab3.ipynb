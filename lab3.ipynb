{
 "cells": [
  {
   "attachments": {},
   "cell_type": "markdown",
   "metadata": {},
   "source": [
    "\n",
    "\n",
    "Laboratorio 3 - Modelo de Regresión Lineal\n",
    "\n",
    "By Cristian Laynez - 201281\n",
    "\n",
    "Se provee un dataset donde se muestran los precios de casas en King Country, Seattle. \n",
    "\n",
    "Este conjunto incluye los precios de las casas vendidas entre mayo 2014 y mayo 2015. \n",
    "\n",
    "El objetivo de este laboratorio es definir un modelo de regresion lineal donde se puedad verla relacion entre precio \n",
    "y pies cuadrasa del espacio habitable interior de los apartementos."
   ]
  },
  {
   "cell_type": "code",
   "execution_count": 47,
   "metadata": {},
   "outputs": [],
   "source": [
    "# Importar todas las librerias a utilizar\n",
    "import numpy as np\n",
    "import matplotlib.pyplot as plt\n",
    "import csv"
   ]
  },
  {
   "cell_type": "code",
   "execution_count": 48,
   "metadata": {},
   "outputs": [],
   "source": [
    "# --> Leer la data proporcionada\n",
    "f = open('kc_house_data.csv', 'r')\n",
    "reader = csv.reader(f)\n",
    "header = next(reader, None)\n",
    "\n",
    "# Se guardara la data en un diccionario\n",
    "data = {}\n",
    "for h in header:\n",
    "    data[h] = []\n",
    "\n",
    "# Se guardaran todos los valores\n",
    "for row in reader:\n",
    "    control = 0\n",
    "    for h, v in zip(header, row):        \n",
    "        d = float(v) if control >= 2 else v\n",
    "        temp = [d]\n",
    "        data[h].append(temp)\n",
    "        control += 1\n"
   ]
  },
  {
   "cell_type": "code",
   "execution_count": 49,
   "metadata": {},
   "outputs": [
    {
     "name": "stdout",
     "output_type": "stream",
     "text": [
      "['id', 'date', 'price', 'bedrooms', 'bathrooms', 'sqft_living', 'sqft_lot', 'floors', 'waterfront', 'view', 'condition', 'grade', 'sqft_above', 'sqft_basement', 'yr_built', 'yr_renovated', 'zipcode', 'lat', 'long', 'sqft_living15', 'sqft_lot15']\n"
     ]
    }
   ],
   "source": [
    "# Imprimir todos los headers que se encontraron\n",
    "print(header)"
   ]
  },
  {
   "cell_type": "code",
   "execution_count": 50,
   "metadata": {},
   "outputs": [],
   "source": [
    "# Definir funcion lambda de costo\n",
    "cost = lambda X, y, t : ((X @ t - y) ** 2).sum() / len(y)\n",
    "\n",
    "# Definir funcion lambda de gradiente\n",
    "grad = lambda X, y, t : 2 * X.T @ (X @ t - y) / len(y)\n",
    "\n",
    "# Definir funcion lambda de normalizacion que nos ayudara a tener un sistema de regresion lineal mas optimo\n",
    "norm = lambda v : np.sqrt((v ** 2).sum())\n",
    "\n",
    "# ! Referencia y creditos al ejemplo proveido en clase :)"
   ]
  },
  {
   "cell_type": "code",
   "execution_count": 51,
   "metadata": {},
   "outputs": [],
   "source": [
    "# --> Ajustando sistema de regresion lineal\n",
    "def linear_regression(X, y ,t, cost, grad, a=0.1, n=100, on_step=None):\n",
    "    costs = []\n",
    "    for _ in range(n):\n",
    "        nabla = grad(X, y, t)\n",
    "        t -= a * nabla\n",
    "        costs.append(norm(nabla))\n",
    "\n",
    "        if on_step:\n",
    "            on_step(t)\n",
    "\n",
    "    return t, costs\n",
    "\n",
    "# ! Referencia y creditos al ejemplo proveido en clase :)"
   ]
  },
  {
   "cell_type": "code",
   "execution_count": 126,
   "metadata": {},
   "outputs": [],
   "source": [
    "DATASET_SET_SIZE = len(data['id'])\n",
    "DATASET_SPARSE_RATIO = 50\n",
    "DATASET_X_LIM = 100"
   ]
  },
  {
   "cell_type": "code",
   "execution_count": 127,
   "metadata": {},
   "outputs": [
    {
     "name": "stdout",
     "output_type": "stream",
     "text": [
      "theta: [[1.13135439e+03]\n",
      " [1.75627878e-03]] and 1131.3543927134137 and 0.0017562787815594398\n",
      "Tf: [[-4.10307996e+107]\n",
      " [-1.01979815e+111]]\n",
      "xm: [[  0]\n",
      " [100]]\n",
      "xmr: [[  1.   0.]\n",
      " [  1. 100.]]\n",
      "ym: [[-4.10307996e+107]\n",
      " [-1.01980226e+113]]\n"
     ]
    }
   ],
   "source": [
    "# --> Obtener datos para mostrar la siguiente relacion:\n",
    "# * precio y pies cuadrados del espacio habitable interior (price - sqft_living).\n",
    "array_living = np.array(data['sqft_living'])\n",
    "array_price = np.array(data['price'])\n",
    "X = array_price.reshape((DATASET_SET_SIZE, 1))\n",
    "Xr = np.hstack((\n",
    "    np.ones((DATASET_SET_SIZE, 1)),\n",
    "    array_living.reshape((DATASET_SET_SIZE, 1))\n",
    "))\n",
    "y = 3 + 2 * X + array_living.reshape((DATASET_SET_SIZE, 1)) * DATASET_SPARSE_RATIO\n",
    "\n",
    "to = np.random.rand(Xr.shape[1], 1)\n",
    "xmr = np.hstack((np.ones((X.shape[0], 1)), X))\n",
    "theta = np.linalg.inv(xmr.T @ xmr) @ xmr.T @ array_living # array_living = y\n",
    "print(f\"theta: {theta} and {theta[0][0]} and {theta[1][0]}\")\n",
    "\n",
    "# -> Utilizar la implementacion vectorial del algoritmo de regresion lineal\n",
    "tf, costs = linear_regression(\n",
    "    Xr, \n",
    "    y, \n",
    "    theta, \n",
    "    cost, \n",
    "    grad, \n",
    "    a=0.025, \n",
    "    n=20,\n",
    ")\n",
    "\n",
    "print(f\"Tf: {tf}\")\n",
    "\n",
    "# theta_temp = \n",
    "# ym = theta[0][0] + theta[1][0] * X[:, 1] # Definiendo nuestra prediccion\n",
    "\n",
    "# # # # Preparar las variables xm, xmr y ym\n",
    "xm = np.array([[0], [DATASET_X_LIM]])\n",
    "print(f\"xm: {xm}\")\n",
    "xmr = np.hstack((\n",
    "    np.ones((2, 1)),\n",
    "    xm\n",
    "))\n",
    "ym = xmr @ tf\n",
    "print(f\"xmr: {xmr}\")\n",
    "print(f\"ym: {ym}\")"
   ]
  },
  {
   "cell_type": "code",
   "execution_count": 130,
   "metadata": {},
   "outputs": [
    {
     "data": {
      "image/png": "[encoded data removed]",
      "text/plain": [
       "<Figure size 640x480 with 1 Axes>"
      ]
     },
     "metadata": {},
     "output_type": "display_data"
    }
   ],
   "source": [
    "# Se graficara el resultado del modelo de regresion lineal\n",
    "\n",
    "# ! Graficar modelo de regresion lineal\n",
    "plt.plot(Xr[:, 1], y, 'ro') # datos\n",
    "# plt.plot(xm, ym) # regresion lineal\n",
    "# plt.title(\"Modelo Regresion Lineal (price - sqft_living)\")\n",
    "plt.title(\"Relación entre precio y espacio habitable interior\")\n",
    "plt.show()\n",
    "\n",
    "# ! Graficar costos\n",
    "plt.plot(costs)\n",
    "plt.title(\"Costos\")\n",
    "plt.show()"
   ]
  },
  {
   "attachments": {},
   "cell_type": "markdown",
   "metadata": {},
   "source": [
    "--> Análisis sobre los hallazgos\n",
    "\n",
    "..."
   ]
  }
 ],
 "metadata": {
  "kernelspec": {
   "display_name": "Python 3",
   "language": "python",
   "name": "python3"
  },
  "language_info": {
   "codemirror_mode": {
    "name": "ipython",
    "version": 3
   },
   "file_extension": ".py",
   "mimetype": "text/x-python",
   "name": "python",
   "nbconvert_exporter": "python",
   "pygments_lexer": "ipython3",
   "version": "3.11.2"
  },
  "orig_nbformat": 4,
  "vscode": {
   "interpreter": {
    "hash": "e7370f93d1d0cde622a1f8e1c04877d8463912d04d973331ad4851f04de6915a"
   }
  }
 },
 "nbformat": 4,
 "nbformat_minor": 2
}
