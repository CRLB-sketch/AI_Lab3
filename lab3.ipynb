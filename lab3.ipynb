{
 "cells": [
  {
   "attachments": {},
   "cell_type": "markdown",
   "metadata": {},
   "source": [
    "\n",
    "\n",
    "Laboratorio 3 - Modelo de Regresión Lineal\n",
    "\n",
    "By Cristian Laynez - 201281\n",
    "\n",
    "Se provee un dataset donde se muestran los precios de casas en King Country, Seattle. \n",
    "\n",
    "Este conjunto incluye los precios de las casas vendidas entre mayo 2014 y mayo 2015. \n",
    "\n",
    "El objetivo de este laboratorio es definir un modelo de regresion lineal donde se puedad verla relacion entre precio \n",
    "y pies cuadrasa del espacio habitable interior de los apartementos."
   ]
  },
  {
   "cell_type": "code",
   "execution_count": 7,
   "metadata": {},
   "outputs": [],
   "source": [
    "# Importar todas las librerias a utilizar\n",
    "import numpy as np\n",
    "import matplotlib.pyplot as plt\n",
    "import csv"
   ]
  },
  {
   "cell_type": "code",
   "execution_count": 8,
   "metadata": {},
   "outputs": [],
   "source": [
    "# --> Leer la data proporcionada\n",
    "f = open('kc_house_data.csv', 'r')\n",
    "reader = csv.reader(f)\n",
    "header = next(reader, None)\n",
    "\n",
    "# Se guardara la data en un diccionario\n",
    "data = {}\n",
    "for h in header:\n",
    "    data[h] = []\n",
    "\n",
    "# Se guardaran todos los valores\n",
    "for row in reader:\n",
    "    control = 0\n",
    "    for h, v in zip(header, row):        \n",
    "        d = float(v) if control >= 2 else v\n",
    "        data[h].append(d)\n",
    "        control += 1\n"
   ]
  },
  {
   "cell_type": "code",
   "execution_count": 3,
   "metadata": {},
   "outputs": [
    {
     "name": "stdout",
     "output_type": "stream",
     "text": [
      "['id', 'date', 'price', 'bedrooms', 'bathrooms', 'sqft_living', 'sqft_lot', 'floors', 'waterfront', 'view', 'condition', 'grade', 'sqft_above', 'sqft_basement', 'yr_built', 'yr_renovated', 'zipcode', 'lat', 'long', 'sqft_living15', 'sqft_lot15']\n"
     ]
    }
   ],
   "source": [
    "# Imprimir todos los headers que se encontraron\n",
    "print(header)"
   ]
  },
  {
   "cell_type": "code",
   "execution_count": 5,
   "metadata": {},
   "outputs": [],
   "source": [
    "# Definir funcion lambda de costo\n",
    "cost = lambda X, y, t : ((X @ t - y) ** 2).sum() / len(y)\n",
    "\n",
    "# Definir funcion lambda de gradiente\n",
    "grad = lambda X, y, t : 2 * X.T @ (X @ t - y) / len(y)\n",
    "\n",
    "# Definir funcion lambda de normalizacion que nos ayudara a tener un sistema de regresion lineal mas optimo\n",
    "norm = lambda v : np.sqrt((v ** 2).sum())\n",
    "\n",
    "# ! Referencia y creditos al ejemplo proveido en clase :)"
   ]
  },
  {
   "cell_type": "code",
   "execution_count": 6,
   "metadata": {},
   "outputs": [],
   "source": [
    "# --> Ajustando sistema de regresion lineal\n",
    "def linreg(X, y ,t, grad, a=0.1, n=100, on_step=None):\n",
    "    costs = []\n",
    "    for _ in range(n):\n",
    "        nabla = grad(X, y, t)\n",
    "        t -= a * nabla\n",
    "        costs.append(norm(nabla))\n",
    "\n",
    "        if on_step:\n",
    "            on_step(t)\n",
    "\n",
    "    return t, costs\n",
    "\n",
    "# ! Referencia y creditos al ejemplo proveido en clase :)"
   ]
  },
  {
   "cell_type": "code",
   "execution_count": null,
   "metadata": {},
   "outputs": [],
   "source": [
    "# --> Obtener datos para mostrar la siguiente relacion:\n",
    "# * precio y pies cuadrados del espacio habitable interior (price - sqft_living).\n"
   ]
  },
  {
   "cell_type": "code",
   "execution_count": null,
   "metadata": {},
   "outputs": [],
   "source": [
    "# -> Utilizar la implementacion vectorial del algoritmo de regresion lineal"
   ]
  },
  {
   "cell_type": "code",
   "execution_count": null,
   "metadata": {},
   "outputs": [],
   "source": [
    "# --> Utilizar cross-validation para determinar el grado del polinomio que mejor describe la nube de puntos\n",
    "\n",
    "# Se debe de encontrar el mejor balance entre apego a los datos de entrenamiento y generalizacion para datos previamente no observados."
   ]
  },
  {
   "attachments": {},
   "cell_type": "markdown",
   "metadata": {},
   "source": [
    "--> Análisis sobre los hallazgos\n",
    "\n",
    "..."
   ]
  }
 ],
 "metadata": {
  "kernelspec": {
   "display_name": "Python 3",
   "language": "python",
   "name": "python3"
  },
  "language_info": {
   "codemirror_mode": {
    "name": "ipython",
    "version": 3
   },
   "file_extension": ".py",
   "mimetype": "text/x-python",
   "name": "python",
   "nbconvert_exporter": "python",
   "pygments_lexer": "ipython3",
   "version": "3.11.0"
  },
  "orig_nbformat": 4,
  "vscode": {
   "interpreter": {
    "hash": "e7370f93d1d0cde622a1f8e1c04877d8463912d04d973331ad4851f04de6915a"
   }
  }
 },
 "nbformat": 4,
 "nbformat_minor": 2
}
