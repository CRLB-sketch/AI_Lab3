{
 "cells": [
  {
   "attachments": {},
   "cell_type": "markdown",
   "metadata": {},
   "source": [
    "\n",
    "\n",
    "Laboratorio 3 - Modelo de Regresión Lineal\n",
    "\n",
    "By Cristian Laynez - 201281"
   ]
  },
  {
   "attachments": {},
   "cell_type": "markdown",
   "metadata": {},
   "source": [
    "Se provee un dataset donde se muestran los precios de casas en King Country, Seattle. \n",
    "Este conjunto incluye los precios de las casas vendidas entre mayo 2014 y mayo 2015. "
   ]
  },
  {
   "attachments": {},
   "cell_type": "markdown",
   "metadata": {},
   "source": [
    "El objetivo de este laboratorio es definir un modelo de regresion lineal donde se puedad verla relacion entre precio y pies cuadrasa del espacio habitable interior de los apartementos."
   ]
  },
  {
   "attachments": {},
   "cell_type": "markdown",
   "metadata": {},
   "source": [
    "Task 1.1 - Leer csv proporcionado"
   ]
  },
  {
   "cell_type": "code",
   "execution_count": 6,
   "metadata": {},
   "outputs": [],
   "source": [
    "# Importar todas las librerias a utilizar\n",
    "import numpy as np\n",
    "import matplotlib.pyplot as plt\n",
    "import csv"
   ]
  },
  {
   "cell_type": "code",
   "execution_count": 7,
   "metadata": {},
   "outputs": [],
   "source": [
    "# --> Leer la data proporcionada\n",
    "f = open('kc_house_data.csv', 'r')\n",
    "reader = csv.reader(f)\n",
    "header = next(reader, None)\n",
    "\n",
    "# Se guardara la data en un diccionario\n",
    "data = {}\n",
    "for h in header:\n",
    "    data[h] = []\n",
    "\n",
    "# Se guardaran todos los valores\n",
    "for row in reader:\n",
    "    control = 0\n",
    "    for h, v in zip(header, row):        \n",
    "        d = float(v) if control >= 2 else v\n",
    "        temp = [d]\n",
    "        data[h].append(temp)\n",
    "        control += 1\n"
   ]
  },
  {
   "cell_type": "code",
   "execution_count": 24,
   "metadata": {},
   "outputs": [
    {
     "name": "stdout",
     "output_type": "stream",
     "text": [
      "['id', 'date', 'price', 'bedrooms', 'bathrooms', 'sqft_living', 'sqft_lot', 'floors', 'waterfront', 'view', 'condition', 'grade', 'sqft_above', 'sqft_basement', 'yr_built', 'yr_renovated', 'zipcode', 'lat', 'long', 'sqft_living15', 'sqft_lot15']\n"
     ]
    }
   ],
   "source": [
    "# Imprimir todos los headers que se encontraron\n",
    "print(header)"
   ]
  },
  {
   "attachments": {},
   "cell_type": "markdown",
   "metadata": {},
   "source": [
    "Task 1.2 - Ajustar un modelo polinomial (regresion lineal)"
   ]
  },
  {
   "cell_type": "code",
   "execution_count": 9,
   "metadata": {},
   "outputs": [],
   "source": [
    "# Definir funcion lambda de costo\n",
    "cost = lambda X, y, t : ((X @ t - y) ** 2).sum() / len(y)\n",
    "\n",
    "# Definir funcion lambda de gradiente\n",
    "grad = lambda X, y, t : 2 * X.T @ (X @ t - y) / len(y)\n",
    "\n",
    "# Definir funcion lambda de normalizacion que nos ayudara a tener un sistema de regresion lineal mas optimo\n",
    "norm = lambda v : np.sqrt((v ** 2).sum())\n",
    "\n",
    "# ! Referencia y creditos al ejemplo proveido en clase :)"
   ]
  },
  {
   "cell_type": "code",
   "execution_count": 10,
   "metadata": {},
   "outputs": [],
   "source": [
    "# --> Ajustando sistema de regresion lineal\n",
    "def linear_regression(X, y ,t, cost, grad, a=0.1, n=100, on_step=None):\n",
    "    costs = []\n",
    "    for _ in range(n):\n",
    "        nabla = grad(X, y, t)\n",
    "        t -= a * nabla\n",
    "        costs.append(norm(nabla))\n",
    "\n",
    "        if on_step:\n",
    "            on_step(t)\n",
    "\n",
    "    return t, costs\n",
    "\n",
    "# ! Referencia y creditos al ejemplo proveido en clase :)"
   ]
  },
  {
   "cell_type": "code",
   "execution_count": 11,
   "metadata": {},
   "outputs": [],
   "source": [
    "DATASET_SET_SIZE = len(data['id'])\n",
    "DATASET_SPARSE_RATIO = 50\n",
    "DATASET_X_LIM = 12000"
   ]
  },
  {
   "cell_type": "code",
   "execution_count": 34,
   "metadata": {},
   "outputs": [
    {
     "name": "stdout",
     "output_type": "stream",
     "text": [
      "[[221900.   1180.]\n",
      " [538000.   2570.]\n",
      " [180000.    770.]\n",
      " ...\n",
      " [402101.   1020.]\n",
      " [400000.   1600.]\n",
      " [325000.   1020.]]\n"
     ]
    }
   ],
   "source": []
  },
  {
   "attachments": {},
   "cell_type": "markdown",
   "metadata": {},
   "source": [
    "Task 1.3 - Implementación vectorial del algoritmo de regresión lineal"
   ]
  },
  {
   "cell_type": "code",
   "execution_count": 12,
   "metadata": {},
   "outputs": [
    {
     "name": "stdout",
     "output_type": "stream",
     "text": [
      "Tf: [[-5.30111404e-02]\n",
      " [ 5.76179606e+02]]\n",
      "xm: [[    0]\n",
      " [12000]]\n",
      "xmr: [[1.0e+00 0.0e+00]\n",
      " [1.0e+00 1.2e+04]]\n",
      "ym: [[-5.30111404e-02]\n",
      " [ 6.91415522e+06]]\n"
     ]
    }
   ],
   "source": [
    "# --> Obtener datos para mostrar la siguiente relacion:\n",
    "# * precio y pies cuadrados del espacio habitable interior (price - sqft_living).\n",
    "array_living = np.array(data['sqft_living'])\n",
    "array_price = np.array(data['price'])\n",
    "X = array_price.reshape((DATASET_SET_SIZE, 1))\n",
    "Xr = np.hstack((\n",
    "    np.ones((DATASET_SET_SIZE, 1)),\n",
    "    array_living.reshape((DATASET_SET_SIZE, 1))\n",
    "))\n",
    "y = 3 + 2 * X + array_living.reshape((DATASET_SET_SIZE, 1)) * DATASET_SPARSE_RATIO\n",
    "\n",
    "to = np.random.rand(Xr.shape[1], 1)\n",
    "xmr = np.hstack((np.ones((X.shape[0], 1)), X))\n",
    "theta = np.linalg.inv(xmr.T @ xmr) @ xmr.T @ array_price # array_living = y\n",
    "\n",
    "# -> Utilizar la implementacion vectorial del algoritmo de regresion lineal\n",
    "tf, costs = linear_regression(\n",
    "    Xr, \n",
    "    y, \n",
    "    theta, \n",
    "    cost, \n",
    "    grad, \n",
    "    a=0.00000001, \n",
    "    n=1000,\n",
    ")\n",
    "\n",
    "print(f\"Tf: {tf}\")\n",
    "\n",
    "# Preparar las variables para la prediccion\n",
    "xm = np.array([[0], [DATASET_X_LIM]])\n",
    "print(f\"xm: {xm}\")\n",
    "xmr = np.hstack((\n",
    "    np.ones((2, 1)),\n",
    "    xm\n",
    "))\n",
    "ym = xmr @ tf\n",
    "print(f\"xmr: {xmr}\")\n",
    "print(f\"ym: {ym}\")"
   ]
  },
  {
   "cell_type": "code",
   "execution_count": 13,
   "metadata": {},
   "outputs": [
    {
     "data": {
      "image/png": "[encoded data removed]",
      "text/plain": [
       "<Figure size 640x480 with 1 Axes>"
      ]
     },
     "metadata": {},
     "output_type": "display_data"
    },
    {
     "data": {
      "image/png": "[encoded data removed]",
      "text/plain": [
       "<Figure size 640x480 with 1 Axes>"
      ]
     },
     "metadata": {},
     "output_type": "display_data"
    }
   ],
   "source": [
    "# Se graficara el resultado del modelo de regresion lineal\n",
    "\n",
    "# ! Graficar modelo de regresion lineal\n",
    "plt.plot(Xr[:, 1], y, 'ro') # datos\n",
    "plt.plot(xm, ym) # regresion lineal\n",
    "plt.title(\"Relación entre precio y espacio habitable interior\")\n",
    "# price - sqft_living\n",
    "plt.xlabel('SQFT Living')\n",
    "plt.ylabel('Price')\n",
    "plt.show()\n",
    "\n",
    "# ! Graficar costos\n",
    "# Para visualizar que tan bueno es nuestro modelo de regresion lineal\n",
    "plt.plot(costs)\n",
    "plt.title(\"Costos\")\n",
    "plt.show()"
   ]
  },
  {
   "attachments": {},
   "cell_type": "markdown",
   "metadata": {},
   "source": [
    "Task 1.4 - Usar cross-validation para determinar el grado del polinomio"
   ]
  },
  {
   "cell_type": "code",
   "execution_count": 51,
   "metadata": {},
   "outputs": [],
   "source": [
    "# Dividir los datos entre datos de entrenamiento y prueba\n",
    "def data_sets_of_train_and_test(data, test_size=0.3):\n",
    "    n = len(data)\n",
    "    n_test = int(n * test_size)\n",
    "    np.random.shuffle(data)\n",
    "    data_train = data[n_test:]\n",
    "    data_test = data[:n_test]\n",
    "    return data_train, data_test\n",
    "\n",
    "# Calcular el error cuadrático medio (MSE)\n",
    "def mean_squared_error(X, y, degree):\n",
    "    n = len(X)\n",
    "    X_poly = np.column_stack([np.power(X, d) for d in range(1, degree+1)])\n",
    "    X_poly = np.insert(X_poly, 0, 1, axis=1)\n",
    "    theta = np.linalg.inv(X_poly.T.dot(X_poly)).dot(X_poly.T).dot(y)\n",
    "    y_pred = X_poly.dot(theta)\n",
    "    mse = np.sum(np.power(y_pred - y, 2)) / n\n",
    "    return mse\n",
    "\n",
    "# Cross-validation obtener error del modelo\n",
    "def mse_cross_validation(data, degree, k=3):\n",
    "    n = len(data)\n",
    "    np.random.shuffle(data)\n",
    "    mse = 0.0\n",
    "    for i in range(k):\n",
    "        test_indexes = np.arange(i, n, k)\n",
    "        train_indexes = np.setdiff1d(np.arange(n), test_indexes)\n",
    "        X_train = data[train_indexes][:, 0]\n",
    "        y_train = data[train_indexes][:, 1]\n",
    "        mse += mean_squared_error(X_train, y_train, degree)\n",
    "    mse /= k\n",
    "    return mse\n",
    "\n",
    "# Determinar el mejor grado de polinomio con la dataset que se provea\n",
    "def get_best_degree(data_set, min, max):\n",
    "    degrees = list(range(min, max)) # Definir grado de grados\n",
    "    best_degree = None\n",
    "    best_mse = float('inf')\n",
    "    for degree in degrees:\n",
    "        mse = mse_cross_validation(data_set, degree)\n",
    "        if mse < best_mse:\n",
    "            best_mse = mse\n",
    "            best_degree = degree\n",
    "    return best_degree\n"
   ]
  },
  {
   "cell_type": "code",
   "execution_count": 53,
   "metadata": {},
   "outputs": [
    {
     "name": "stdout",
     "output_type": "stream",
     "text": [
      "El grado del polinomio del entrenamiento es: 10\n"
     ]
    }
   ],
   "source": [
    "# Preparar una matriz para probar y entrenar la data de price and sqft_living\n",
    "data_for_test_and_train = [[data['price'][i][0], data['sqft_living'][i][0]] for i in range(DATASET_SET_SIZE)]\n",
    "data_for_test_and_train = np.array(data_for_test_and_train)\n",
    "\n",
    "# Obtener la data de prueba y entrenamiento\n",
    "data_train, data_test = data_sets_of_train_and_test(data_for_test_and_train, test_size=0.3)\n",
    "\n",
    "# Vamos a obtener el mejor grado de polinomio\n",
    "print(f\"El grado del polinomio para el entrenamiento es: {get_best_degree(data_train, 1, 25)}\")"
   ]
  },
  {
   "attachments": {},
   "cell_type": "markdown",
   "metadata": {},
   "source": [
    "Task 1.5 - Análisis sobre los hallazgos"
   ]
  },
  {
   "attachments": {},
   "cell_type": "markdown",
   "metadata": {},
   "source": [
    "Como se podra observar en la grárfica de \"Relación entre precio y espacio habitable interior\" se puede apreciar una dispersión entre precio y espacio habitable.\n",
    "\n",
    "Donde se puede ver que mientras mas se extiende price and sqft living existe mas dispersion donde ambos suelen ir en aumento.\n",
    "\n",
    "La regresion lineal nos demuestra que si estan muy relacionados estas cualidades.\n",
    "\n",
    "Afortunadamente se pudo encontrar un buen modelo de regresión lineal donde quedó demostrado en la gráfica de costos. Y por ultimo se pudo encontrar un buen balance con el grado de polinomio (cuyo resultado termino siendo 10), no es muy bajo ni demasiado alto."
   ]
  }
 ],
 "metadata": {
  "kernelspec": {
   "display_name": "Python 3",
   "language": "python",
   "name": "python3"
  },
  "language_info": {
   "codemirror_mode": {
    "name": "ipython",
    "version": 3
   },
   "file_extension": ".py",
   "mimetype": "text/x-python",
   "name": "python",
   "nbconvert_exporter": "python",
   "pygments_lexer": "ipython3",
   "version": "3.11.2"
  },
  "orig_nbformat": 4,
  "vscode": {
   "interpreter": {
    "hash": "e7370f93d1d0cde622a1f8e1c04877d8463912d04d973331ad4851f04de6915a"
   }
  }
 },
 "nbformat": 4,
 "nbformat_minor": 2
}
