{
 "cells": [
  {
   "attachments": {},
   "cell_type": "markdown",
   "metadata": {},
   "source": [
    "\n",
    "\n",
    "Laboratorio 3 - Modelo de Regresión Lineal\n",
    "\n",
    "By Cristian Laynez - 201281\n",
    "\n",
    "Se provee un dataset donde se muestran los precios de casas en King Country, Seattle. \n",
    "\n",
    "Este conjunto incluye los precios de las casas vendidas entre mayo 2014 y mayo 2015. \n",
    "\n",
    "El objetivo de este laboratorio es definir un modelo de regresion lineal donde se puedad verla relacion entre precio \n",
    "y pies cuadrasa del espacio habitable interior de los apartementos."
   ]
  },
  {
   "cell_type": "code",
   "execution_count": 27,
   "metadata": {},
   "outputs": [],
   "source": [
    "# Importar todas las librerias a utilizar\n",
    "import numpy as np\n",
    "import matplotlib.pyplot as plt\n",
    "import csv"
   ]
  },
  {
   "cell_type": "code",
   "execution_count": 44,
   "metadata": {},
   "outputs": [],
   "source": [
    "# --> Leer la data proporcionada\n",
    "f = open('kc_house_data.csv', 'r')\n",
    "reader = csv.reader(f)\n",
    "header = next(reader, None)\n",
    "\n",
    "# Se guardara la data en un diccionario\n",
    "data = {}\n",
    "for h in header:\n",
    "    data[h] = []\n",
    "\n",
    "# Se guardaran todos los valores\n",
    "for row in reader:\n",
    "    control = 0\n",
    "    for h, v in zip(header, row):        \n",
    "        d = float(v) if control >= 2 else v\n",
    "        temp = [d]\n",
    "        data[h].append(temp)\n",
    "        control += 1\n"
   ]
  },
  {
   "cell_type": "code",
   "execution_count": 29,
   "metadata": {},
   "outputs": [
    {
     "name": "stdout",
     "output_type": "stream",
     "text": [
      "['id', 'date', 'price', 'bedrooms', 'bathrooms', 'sqft_living', 'sqft_lot', 'floors', 'waterfront', 'view', 'condition', 'grade', 'sqft_above', 'sqft_basement', 'yr_built', 'yr_renovated', 'zipcode', 'lat', 'long', 'sqft_living15', 'sqft_lot15']\n"
     ]
    }
   ],
   "source": [
    "# Imprimir todos los headers que se encontraron\n",
    "print(header)"
   ]
  },
  {
   "cell_type": "code",
   "execution_count": 30,
   "metadata": {},
   "outputs": [],
   "source": [
    "# Definir funcion lambda de costo\n",
    "cost = lambda X, y, t : ((X @ t - y) ** 2).sum() / len(y)\n",
    "\n",
    "# Definir funcion lambda de gradiente\n",
    "grad = lambda X, y, t : 2 * X.T @ (X @ t - y) / len(y)\n",
    "\n",
    "# Definir funcion lambda de normalizacion que nos ayudara a tener un sistema de regresion lineal mas optimo\n",
    "norm = lambda v : np.sqrt((v ** 2).sum())\n",
    "\n",
    "# ! Referencia y creditos al ejemplo proveido en clase :)"
   ]
  },
  {
   "cell_type": "code",
   "execution_count": 40,
   "metadata": {},
   "outputs": [],
   "source": [
    "# --> Ajustando sistema de regresion lineal\n",
    "def linear_regression(X, y ,t, cost, grad, a=0.1, n=100, on_step=None):\n",
    "    costs = []\n",
    "    for _ in range(n):\n",
    "        nabla = grad(X, y, t)\n",
    "        t -= a * nabla\n",
    "        costs.append(norm(nabla))\n",
    "\n",
    "        if on_step:\n",
    "            on_step(t)\n",
    "\n",
    "    return t, costs\n",
    "\n",
    "# ! Referencia y creditos al ejemplo proveido en clase :)"
   ]
  },
  {
   "cell_type": "code",
   "execution_count": 32,
   "metadata": {},
   "outputs": [],
   "source": [
    "DATASET_SET_SIZE = len(data['id'])\n",
    "DATASET_SPARSE_RATIO = 20\n",
    "DATASET_X_LIM = 10"
   ]
  },
  {
   "cell_type": "code",
   "execution_count": 48,
   "metadata": {},
   "outputs": [
    {
     "name": "stdout",
     "output_type": "stream",
     "text": [
      "[[0.09160684]\n",
      " [0.07504525]]\n"
     ]
    }
   ],
   "source": [
    "# --> Obtener datos para mostrar la siguiente relacion:\n",
    "# * precio y pies cuadrados del espacio habitable interior (price - sqft_living).\n",
    "X = np.array(data['price'])\n",
    "Xr = np.hstack((\n",
    "    np.ones((DATASET_SET_SIZE, 1)),\n",
    "    np.array(data['sqft_living'])\n",
    "))\n",
    "y = 3 + 2 * X + Xr * DATASET_SPARSE_RATIO\n",
    "\n",
    "to = np.random.rand(Xr.shape[1], 1)\n",
    "print(to)"
   ]
  },
  {
   "cell_type": "code",
   "execution_count": 46,
   "metadata": {},
   "outputs": [
    {
     "ename": "ValueError",
     "evalue": "non-broadcastable output operand with shape (2,1) doesn't match the broadcast shape (2,2)",
     "output_type": "error",
     "traceback": [
      "\u001b[1;31m---------------------------------------------------------------------------\u001b[0m",
      "\u001b[1;31mValueError\u001b[0m                                Traceback (most recent call last)",
      "Cell \u001b[1;32mIn[46], line 2\u001b[0m\n\u001b[0;32m      1\u001b[0m \u001b[39m# -> Utilizar la implementacion vectorial del algoritmo de regresion lineal\u001b[39;00m\n\u001b[1;32m----> 2\u001b[0m tf, costs \u001b[39m=\u001b[39m linear_regression(\n\u001b[0;32m      3\u001b[0m     Xr,\n\u001b[0;32m      4\u001b[0m     y,\n\u001b[0;32m      5\u001b[0m     to,\n\u001b[0;32m      6\u001b[0m     cost,\n\u001b[0;32m      7\u001b[0m     grad,\n\u001b[0;32m      8\u001b[0m     a\u001b[39m=\u001b[39;49m\u001b[39m0.025\u001b[39;49m,\n\u001b[0;32m      9\u001b[0m     n\u001b[39m=\u001b[39;49m\u001b[39m20\u001b[39;49m\n\u001b[0;32m     10\u001b[0m )\n\u001b[0;32m     12\u001b[0m \u001b[39mprint\u001b[39m(\u001b[39mf\u001b[39m\u001b[39m\"\u001b[39m\u001b[39mTf: \u001b[39m\u001b[39m{\u001b[39;00mtf\u001b[39m}\u001b[39;00m\u001b[39m\"\u001b[39m)\n",
      "Cell \u001b[1;32mIn[40], line 6\u001b[0m, in \u001b[0;36mlinear_regression\u001b[1;34m(X, y, t, cost, grad, a, n, on_step)\u001b[0m\n\u001b[0;32m      4\u001b[0m \u001b[39mfor\u001b[39;00m _ \u001b[39min\u001b[39;00m \u001b[39mrange\u001b[39m(n):\n\u001b[0;32m      5\u001b[0m     nabla \u001b[39m=\u001b[39m grad(X, y, t)\n\u001b[1;32m----> 6\u001b[0m     t \u001b[39m-\u001b[39;49m\u001b[39m=\u001b[39;49m a \u001b[39m*\u001b[39;49m nabla\n\u001b[0;32m      7\u001b[0m     costs\u001b[39m.\u001b[39mappend(norm(nabla))\n\u001b[0;32m      9\u001b[0m     \u001b[39mif\u001b[39;00m on_step:\n",
      "\u001b[1;31mValueError\u001b[0m: non-broadcastable output operand with shape (2,1) doesn't match the broadcast shape (2,2)"
     ]
    }
   ],
   "source": [
    "# -> Utilizar la implementacion vectorial del algoritmo de regresion lineal\n",
    "tf, costs = linear_regression(\n",
    "    Xr,\n",
    "    y,\n",
    "    to,\n",
    "    cost,\n",
    "    grad,\n",
    "    a=0.025,\n",
    "    n=20\n",
    ")\n",
    "\n",
    "print(f\"Tf: {tf}\")"
   ]
  },
  {
   "cell_type": "code",
   "execution_count": null,
   "metadata": {},
   "outputs": [],
   "source": [
    "# --> Utilizar cross-validation para determinar el grado del polinomio que mejor describe la nube de puntos\n",
    "\n",
    "# Se debe de encontrar el mejor balance entre apego a los datos de entrenamiento y generalizacion para datos previamente no observados."
   ]
  },
  {
   "attachments": {},
   "cell_type": "markdown",
   "metadata": {},
   "source": [
    "--> Análisis sobre los hallazgos\n",
    "\n",
    "..."
   ]
  }
 ],
 "metadata": {
  "kernelspec": {
   "display_name": "Python 3",
   "language": "python",
   "name": "python3"
  },
  "language_info": {
   "codemirror_mode": {
    "name": "ipython",
    "version": 3
   },
   "file_extension": ".py",
   "mimetype": "text/x-python",
   "name": "python",
   "nbconvert_exporter": "python",
   "pygments_lexer": "ipython3",
   "version": "3.11.0"
  },
  "orig_nbformat": 4,
  "vscode": {
   "interpreter": {
    "hash": "e7370f93d1d0cde622a1f8e1c04877d8463912d04d973331ad4851f04de6915a"
   }
  }
 },
 "nbformat": 4,
 "nbformat_minor": 2
}
